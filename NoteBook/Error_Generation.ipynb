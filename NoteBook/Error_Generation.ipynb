{
 "cells": [
  {
   "cell_type": "markdown",
   "metadata": {},
   "source": [
    "# Data Issue Generation Notebook"
   ]
  },
  {
   "cell_type": "markdown",
   "metadata": {},
   "source": [
    "### 1. Import Libraries and Load Dataset"
   ]
  },
  {
   "cell_type": "code",
   "execution_count": 1,
   "metadata": {},
   "outputs": [
    {
     "data": {
      "text/html": [
       "<div>\n",
       "<style scoped>\n",
       "    .dataframe tbody tr th:only-of-type {\n",
       "        vertical-align: middle;\n",
       "    }\n",
       "\n",
       "    .dataframe tbody tr th {\n",
       "        vertical-align: top;\n",
       "    }\n",
       "\n",
       "    .dataframe thead th {\n",
       "        text-align: right;\n",
       "    }\n",
       "</style>\n",
       "<table border=\"1\" class=\"dataframe\">\n",
       "  <thead>\n",
       "    <tr style=\"text-align: right;\">\n",
       "      <th></th>\n",
       "      <th>Employee ID</th>\n",
       "      <th>Age</th>\n",
       "      <th>Gender</th>\n",
       "      <th>Years at Company</th>\n",
       "      <th>Job Role</th>\n",
       "      <th>Monthly Income</th>\n",
       "      <th>Work-Life Balance</th>\n",
       "      <th>Job Satisfaction</th>\n",
       "      <th>Performance Rating</th>\n",
       "      <th>Number of Promotions</th>\n",
       "      <th>...</th>\n",
       "      <th>Number of Dependents</th>\n",
       "      <th>Job Level</th>\n",
       "      <th>Company Size</th>\n",
       "      <th>Company Tenure</th>\n",
       "      <th>Remote Work</th>\n",
       "      <th>Leadership Opportunities</th>\n",
       "      <th>Innovation Opportunities</th>\n",
       "      <th>Company Reputation</th>\n",
       "      <th>Employee Recognition</th>\n",
       "      <th>Attrition</th>\n",
       "    </tr>\n",
       "  </thead>\n",
       "  <tbody>\n",
       "    <tr>\n",
       "      <th>0</th>\n",
       "      <td>8410</td>\n",
       "      <td>31</td>\n",
       "      <td>Male</td>\n",
       "      <td>19</td>\n",
       "      <td>Education</td>\n",
       "      <td>5390</td>\n",
       "      <td>Excellent</td>\n",
       "      <td>Medium</td>\n",
       "      <td>Average</td>\n",
       "      <td>2</td>\n",
       "      <td>...</td>\n",
       "      <td>0</td>\n",
       "      <td>Mid</td>\n",
       "      <td>Medium</td>\n",
       "      <td>89</td>\n",
       "      <td>No</td>\n",
       "      <td>No</td>\n",
       "      <td>No</td>\n",
       "      <td>Excellent</td>\n",
       "      <td>Medium</td>\n",
       "      <td>Stayed</td>\n",
       "    </tr>\n",
       "    <tr>\n",
       "      <th>1</th>\n",
       "      <td>64756</td>\n",
       "      <td>59</td>\n",
       "      <td>Female</td>\n",
       "      <td>4</td>\n",
       "      <td>Media</td>\n",
       "      <td>5534</td>\n",
       "      <td>Poor</td>\n",
       "      <td>High</td>\n",
       "      <td>Low</td>\n",
       "      <td>3</td>\n",
       "      <td>...</td>\n",
       "      <td>3</td>\n",
       "      <td>Mid</td>\n",
       "      <td>Medium</td>\n",
       "      <td>21</td>\n",
       "      <td>No</td>\n",
       "      <td>No</td>\n",
       "      <td>No</td>\n",
       "      <td>Fair</td>\n",
       "      <td>Low</td>\n",
       "      <td>Stayed</td>\n",
       "    </tr>\n",
       "    <tr>\n",
       "      <th>2</th>\n",
       "      <td>30257</td>\n",
       "      <td>24</td>\n",
       "      <td>Female</td>\n",
       "      <td>10</td>\n",
       "      <td>Healthcare</td>\n",
       "      <td>8159</td>\n",
       "      <td>Good</td>\n",
       "      <td>High</td>\n",
       "      <td>Low</td>\n",
       "      <td>0</td>\n",
       "      <td>...</td>\n",
       "      <td>3</td>\n",
       "      <td>Mid</td>\n",
       "      <td>Medium</td>\n",
       "      <td>74</td>\n",
       "      <td>No</td>\n",
       "      <td>No</td>\n",
       "      <td>No</td>\n",
       "      <td>Poor</td>\n",
       "      <td>Low</td>\n",
       "      <td>Stayed</td>\n",
       "    </tr>\n",
       "    <tr>\n",
       "      <th>3</th>\n",
       "      <td>65791</td>\n",
       "      <td>36</td>\n",
       "      <td>Female</td>\n",
       "      <td>7</td>\n",
       "      <td>Education</td>\n",
       "      <td>3989</td>\n",
       "      <td>Good</td>\n",
       "      <td>High</td>\n",
       "      <td>High</td>\n",
       "      <td>1</td>\n",
       "      <td>...</td>\n",
       "      <td>2</td>\n",
       "      <td>Mid</td>\n",
       "      <td>Small</td>\n",
       "      <td>50</td>\n",
       "      <td>Yes</td>\n",
       "      <td>No</td>\n",
       "      <td>No</td>\n",
       "      <td>Good</td>\n",
       "      <td>Medium</td>\n",
       "      <td>Stayed</td>\n",
       "    </tr>\n",
       "    <tr>\n",
       "      <th>4</th>\n",
       "      <td>65026</td>\n",
       "      <td>56</td>\n",
       "      <td>Male</td>\n",
       "      <td>41</td>\n",
       "      <td>Education</td>\n",
       "      <td>4821</td>\n",
       "      <td>Fair</td>\n",
       "      <td>Very High</td>\n",
       "      <td>Average</td>\n",
       "      <td>0</td>\n",
       "      <td>...</td>\n",
       "      <td>0</td>\n",
       "      <td>Senior</td>\n",
       "      <td>Medium</td>\n",
       "      <td>68</td>\n",
       "      <td>No</td>\n",
       "      <td>No</td>\n",
       "      <td>No</td>\n",
       "      <td>Fair</td>\n",
       "      <td>Medium</td>\n",
       "      <td>Stayed</td>\n",
       "    </tr>\n",
       "  </tbody>\n",
       "</table>\n",
       "<p>5 rows × 24 columns</p>\n",
       "</div>"
      ],
      "text/plain": [
       "   Employee ID  Age  Gender  Years at Company    Job Role  Monthly Income  \\\n",
       "0         8410   31    Male                19   Education            5390   \n",
       "1        64756   59  Female                 4       Media            5534   \n",
       "2        30257   24  Female                10  Healthcare            8159   \n",
       "3        65791   36  Female                 7   Education            3989   \n",
       "4        65026   56    Male                41   Education            4821   \n",
       "\n",
       "  Work-Life Balance Job Satisfaction Performance Rating  Number of Promotions  \\\n",
       "0         Excellent           Medium            Average                     2   \n",
       "1              Poor             High                Low                     3   \n",
       "2              Good             High                Low                     0   \n",
       "3              Good             High               High                     1   \n",
       "4              Fair        Very High            Average                     0   \n",
       "\n",
       "   ... Number of Dependents  Job Level Company Size Company Tenure  \\\n",
       "0  ...                    0        Mid       Medium             89   \n",
       "1  ...                    3        Mid       Medium             21   \n",
       "2  ...                    3        Mid       Medium             74   \n",
       "3  ...                    2        Mid        Small             50   \n",
       "4  ...                    0     Senior       Medium             68   \n",
       "\n",
       "   Remote Work Leadership Opportunities Innovation Opportunities  \\\n",
       "0           No                       No                       No   \n",
       "1           No                       No                       No   \n",
       "2           No                       No                       No   \n",
       "3          Yes                       No                       No   \n",
       "4           No                       No                       No   \n",
       "\n",
       "   Company Reputation Employee Recognition Attrition  \n",
       "0           Excellent               Medium    Stayed  \n",
       "1                Fair                  Low    Stayed  \n",
       "2                Poor                  Low    Stayed  \n",
       "3                Good               Medium    Stayed  \n",
       "4                Fair               Medium    Stayed  \n",
       "\n",
       "[5 rows x 24 columns]"
      ]
     },
     "execution_count": 1,
     "metadata": {},
     "output_type": "execute_result"
    }
   ],
   "source": [
    "# 1. Import libraries and load dataset\n",
    "import pandas as pd\n",
    "import numpy as np\n",
    "import random\n",
    "import os\n",
    "\n",
    "# Load employee dataset\n",
    "dataset_path = '../airflow/data/employee_data.csv'\n",
    "df = pd.read_csv(dataset_path)\n",
    "df_errors = df.copy()\n",
    "df_errors.rename(columns={'PerformanceRating': 'actual_label'}, inplace=True)\n",
    "\n",
    "df_errors.head()\n"
   ]
  },
  {
   "cell_type": "markdown",
   "metadata": {},
   "source": [
    "### 1. Introduce Missing Values (in 'Age' and 'Blood Glucose Level')"
   ]
  },
  {
   "cell_type": "code",
   "execution_count": 2,
   "metadata": {},
   "outputs": [],
   "source": [
    "missing_percentage = 0.1\n",
    "n_missing = int(len(df_errors) * missing_percentage)\n",
    "\n",
    "# Random missing values\n",
    "missing_age_indices = random.sample(range(len(df_errors)), n_missing)\n",
    "missing_income_indices = random.sample(range(len(df_errors)), n_missing)\n",
    "\n",
    "df_errors.loc[missing_age_indices, 'Age'] = np.nan\n",
    "df_errors.loc[missing_income_indices, 'MonthlyIncome'] = np.nan\n",
    "df_errors.loc[missing_income_indices, 'Gender'] = np.nan\n"
   ]
  },
  {
   "cell_type": "markdown",
   "metadata": {},
   "source": [
    "### 2. Introduce Unknown Values in 'Gender'"
   ]
  },
  {
   "cell_type": "code",
   "execution_count": 3,
   "metadata": {},
   "outputs": [],
   "source": [
    "unknown_gender_indices = random.sample(range(len(df_errors)), 25)\n",
    "df_errors.loc[unknown_gender_indices, 'Gender'] = 'Alien'\n"
   ]
  },
  {
   "cell_type": "markdown",
   "metadata": {},
   "source": [
    "### 3. Introduce Wrong data Values for Features"
   ]
  },
  {
   "cell_type": "code",
   "execution_count": 4,
   "metadata": {},
   "outputs": [],
   "source": [
    "wrong_age_indices = random.sample(range(len(df_errors)), 25)\n",
    "wrong_income_indices = random.sample(range(len(df_errors)), 20)\n",
    "\n",
    "df_errors.loc[wrong_age_indices, 'Age'] = -42\n",
    "df_errors.loc[wrong_income_indices, 'MonthlyIncome'] = -10000\n"
   ]
  },
  {
   "cell_type": "markdown",
   "metadata": {},
   "source": [
    "### 4. Introduce String in Numerical Columns"
   ]
  },
  {
   "cell_type": "code",
   "execution_count": 5,
   "metadata": {},
   "outputs": [
    {
     "name": "stderr",
     "output_type": "stream",
     "text": [
      "C:\\Users\\HP\\AppData\\Local\\Temp\\ipykernel_14676\\3187303646.py:8: FutureWarning: Setting an item of incompatible dtype is deprecated and will raise in a future error of pandas. Value 'FifteenK' has dtype incompatible with float64, please explicitly cast to a compatible dtype first.\n",
      "  df_errors.loc[idx, 'MonthlyIncome'] = val\n",
      "C:\\Users\\HP\\AppData\\Local\\Temp\\ipykernel_14676\\3187303646.py:11: FutureWarning: Setting an item of incompatible dtype is deprecated and will raise in a future error of pandas. Value 'Young' has dtype incompatible with float64, please explicitly cast to a compatible dtype first.\n",
      "  df_errors.loc[idx, 'Age'] = val\n"
     ]
    }
   ],
   "source": [
    "string_income_indices = random.sample(range(len(df_errors)), 25)\n",
    "string_age_indices = random.sample(range(len(df_errors)), 25)\n",
    "\n",
    "income_strings = ['TenK', 'FifteenK']\n",
    "age_strings = ['Young', 'Old', 'Teen']\n",
    "\n",
    "for idx, val in zip(string_income_indices, random.choices(income_strings, k=len(string_income_indices))):\n",
    "    df_errors.loc[idx, 'MonthlyIncome'] = val\n",
    "\n",
    "for idx, val in zip(string_age_indices, random.choices(age_strings, k=len(string_age_indices))):\n",
    "    df_errors.loc[idx, 'Age'] = val\n"
   ]
  },
  {
   "cell_type": "markdown",
   "metadata": {},
   "source": [
    "### 5. Introduce Outliers"
   ]
  },
  {
   "cell_type": "code",
   "execution_count": 6,
   "metadata": {},
   "outputs": [],
   "source": [
    "outlier_indices = random.sample(range(len(df_errors)), 20)\n",
    "df_errors.loc[outlier_indices, 'MonthlyIncome'] = random.choices([1_000_000, 999_999], k=len(outlier_indices))\n"
   ]
  },
  {
   "cell_type": "markdown",
   "metadata": {},
   "source": [
    "### 6. Special Characters or Corrupted Data"
   ]
  },
  {
   "cell_type": "code",
   "execution_count": 7,
   "metadata": {},
   "outputs": [],
   "source": [
    "special_char_indices = random.sample(range(len(df_errors)), 25)\n",
    "corrupt_values = random.choices(['@#$', '*&%', '!!!', '###', '$$$'], k=len(special_char_indices))\n",
    "\n",
    "df_errors.loc[special_char_indices, 'JobRole'] = corrupt_values"
   ]
  },
  {
   "cell_type": "markdown",
   "metadata": {},
   "source": [
    "### 7. Random Duplicate rows"
   ]
  },
  {
   "cell_type": "code",
   "execution_count": 8,
   "metadata": {},
   "outputs": [],
   "source": [
    "swap_indices = random.sample(range(len(df_errors)), 15)\n",
    "df_errors.loc[swap_indices, ['Age', 'MonthlyIncome']] = df_errors.loc[swap_indices, ['MonthlyIncome', 'Age']].values\n"
   ]
  },
  {
   "cell_type": "markdown",
   "metadata": {},
   "source": [
    "###  8. Introduce Missing Columns"
   ]
  },
  {
   "cell_type": "code",
   "execution_count": 9,
   "metadata": {},
   "outputs": [],
   "source": [
    "part1 = df_errors.iloc[:500].drop(columns=['Gender'], errors='ignore')  # Drop critical column\n",
    "part2 = df_errors.iloc[500:]\n"
   ]
  },
  {
   "cell_type": "markdown",
   "metadata": {},
   "source": [
    "### ->Saving Error Files into Generated folder"
   ]
  },
  {
   "cell_type": "code",
   "execution_count": 12,
   "metadata": {},
   "outputs": [
    {
     "name": "stdout",
     "output_type": "stream",
     "text": [
      "✅ Corrupted files saved:\n",
      "- ../airflow/data/generated_errors\\employee_data_with_errors.csv - Columns: ['Employee ID', 'Age', 'Years at Company', 'Job Role', 'Monthly Income', 'Work-Life Balance', 'Job Satisfaction', 'Performance Rating', 'Number of Promotions', 'Overtime', 'Distance from Home', 'Education Level', 'Marital Status', 'Number of Dependents', 'Job Level', 'Company Size', 'Company Tenure', 'Remote Work', 'Leadership Opportunities', 'Innovation Opportunities', 'Company Reputation', 'Employee Recognition', 'Attrition']\n",
      "- ../airflow/data/generated_errors\\employee_data2_with_errors.csv - Columns: ['Employee ID', 'Age', 'Gender', 'Years at Company', 'Job Role', 'Monthly Income', 'Work-Life Balance', 'Job Satisfaction', 'Performance Rating', 'Number of Promotions', 'Overtime', 'Distance from Home', 'Education Level', 'Marital Status', 'Number of Dependents', 'Job Level', 'Company Size', 'Company Tenure', 'Remote Work', 'Leadership Opportunities', 'Innovation Opportunities', 'Company Reputation', 'Employee Recognition', 'Attrition']\n"
     ]
    }
   ],
   "source": [
    "output_dir = '../airflow/data/generated_errors'\n",
    "os.makedirs(output_dir, exist_ok=True)\n",
    "\n",
    "output_file1 = os.path.join(output_dir, 'employee_data_with_errors.csv')\n",
    "output_file2 = os.path.join(output_dir, 'employee_data2_with_errors.csv')\n",
    "\n",
    "# Remove columns that look like duplicates at the end\n",
    "expected_columns = ['Employee ID', 'Age', 'Gender', 'Years at Company', 'Job Role', 'Monthly Income', \n",
    "                   'Work-Life Balance', 'Job Satisfaction', 'Performance Rating', 'Number of Promotions',\n",
    "                   'Overtime', 'Distance from Home', 'Education Level', 'Marital Status', \n",
    "                   'Number of Dependents', 'Job Level', 'Company Size', 'Company Tenure', 'Remote Work',\n",
    "                   'Leadership Opportunities', 'Innovation Opportunities', 'Company Reputation', \n",
    "                   'Employee Recognition', 'Attrition']\n",
    "\n",
    "# For part1, Gender was intentionally dropped\n",
    "part1_expected = [col for col in expected_columns if col != 'Gender']\n",
    "\n",
    "# Clean part1 (keep only expected columns that exist)\n",
    "part1_clean = part1[[col for col in part1_expected if col in part1.columns]]\n",
    "\n",
    "# Clean part2 (keep only expected columns that exist)  \n",
    "part2_clean = part2[[col for col in expected_columns if col in part2.columns]]\n",
    "\n",
    "part1_clean.to_csv(output_file1, index=False, na_rep=\"NaN\")\n",
    "part2_clean.to_csv(output_file2, index=False, na_rep=\"NaN\")\n",
    "\n",
    "print(f\"✅ Corrupted files saved:\")\n",
    "print(f\"- {output_file1} - Columns: {list(part1_clean.columns)}\")\n",
    "print(f\"- {output_file2} - Columns: {list(part2_clean.columns)}\")"
   ]
  }
 ],
 "metadata": {
  "kernelspec": {
   "display_name": "employee_performance",
   "language": "python",
   "name": "python3"
  },
  "language_info": {
   "codemirror_mode": {
    "name": "ipython",
    "version": 3
   },
   "file_extension": ".py",
   "mimetype": "text/x-python",
   "name": "python",
   "nbconvert_exporter": "python",
   "pygments_lexer": "ipython3",
   "version": "3.9.22"
  }
 },
 "nbformat": 4,
 "nbformat_minor": 2
}
